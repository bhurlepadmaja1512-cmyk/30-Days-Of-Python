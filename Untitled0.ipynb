{
  "nbformat": 4,
  "nbformat_minor": 0,
  "metadata": {
    "colab": {
      "provenance": [],
      "authorship_tag": "ABX9TyPXc7pwr3zloWorihZwJTym",
      "include_colab_link": true
    },
    "kernelspec": {
      "name": "python3",
      "display_name": "Python 3"
    },
    "language_info": {
      "name": "python"
    }
  },
  "cells": [
    {
      "cell_type": "markdown",
      "metadata": {
        "id": "view-in-github",
        "colab_type": "text"
      },
      "source": [
        "<a href=\"https://colab.research.google.com/github/bhurlepadmaja1512-cmyk/30-Days-Of-Python/blob/master/Untitled0.ipynb\" target=\"_parent\"><img src=\"https://colab.research.google.com/assets/colab-badge.svg\" alt=\"Open In Colab\"/></a>"
      ]
    },
    {
      "cell_type": "code",
      "execution_count": 1,
      "metadata": {
        "colab": {
          "base_uri": "https://localhost:8080/"
        },
        "id": "G6fq3AlrRt1r",
        "outputId": "36a84da1-d631-42c2-eb85-93f58215e10d"
      },
      "outputs": [
        {
          "output_type": "stream",
          "name": "stdout",
          "text": [
            "hello world\n"
          ]
        }
      ],
      "source": [
        "print(\"hello world\")"
      ]
    },
    {
      "cell_type": "code",
      "source": [
        "a=789\n",
        "b=678\n",
        "c,d=a,b\n",
        "print(a,b,c,d)"
      ],
      "metadata": {
        "colab": {
          "base_uri": "https://localhost:8080/"
        },
        "id": "WMMDcPLyR2WE",
        "outputId": "6f03eace-7df8-49df-a8f0-0a476c6900cf"
      },
      "execution_count": 2,
      "outputs": [
        {
          "output_type": "stream",
          "name": "stdout",
          "text": [
            "789 678 789 678\n"
          ]
        }
      ]
    },
    {
      "cell_type": "code",
      "source": [
        "x,y,z=56,90,34\n",
        "print(x*y,y*z,z*x)"
      ],
      "metadata": {
        "colab": {
          "base_uri": "https://localhost:8080/"
        },
        "id": "_A0gMC7FSHp8",
        "outputId": "614de27b-7885-456e-f06a-c7d0e9c0081d"
      },
      "execution_count": 3,
      "outputs": [
        {
          "output_type": "stream",
          "name": "stdout",
          "text": [
            "5040 3060 1904\n"
          ]
        }
      ]
    },
    {
      "cell_type": "code",
      "source": [
        "name = \"app\"\n",
        "age = 67\n",
        "phone = \"1234567890\"\n",
        "student = True\n",
        "#type\n",
        "print(type(name),type(age),type(phone),type(student))"
      ],
      "metadata": {
        "colab": {
          "base_uri": "https://localhost:8080/"
        },
        "id": "Vl6PqZEdSVxA",
        "outputId": "7923b153-b74c-4997-d222-d5830a7c43ce"
      },
      "execution_count": 6,
      "outputs": [
        {
          "output_type": "stream",
          "name": "stdout",
          "text": [
            "<class 'str'> <class 'int'> <class 'str'> <class 'bool'>\n"
          ]
        }
      ]
    },
    {
      "cell_type": "code",
      "source": [
        "days = 7\n",
        "print(days)"
      ],
      "metadata": {
        "colab": {
          "base_uri": "https://localhost:8080/"
        },
        "id": "BKCDB4WXTTEn",
        "outputId": "1b8c1412-b91e-47f8-ad0b-e45bd79e9756"
      },
      "execution_count": 7,
      "outputs": [
        {
          "output_type": "stream",
          "name": "stdout",
          "text": [
            "7\n"
          ]
        }
      ]
    },
    {
      "cell_type": "code",
      "source": [
        "day = 24\n",
        "hour = 60\n",
        "print(\"total minutes in a day\",day*hour)"
      ],
      "metadata": {
        "colab": {
          "base_uri": "https://localhost:8080/"
        },
        "id": "fICddAMfUhA4",
        "outputId": "fc132967-7056-4950-c1bc-c4f0f3b398c2"
      },
      "execution_count": 8,
      "outputs": [
        {
          "output_type": "stream",
          "name": "stdout",
          "text": [
            "total minutes in a day 1440\n"
          ]
        }
      ]
    },
    {
      "cell_type": "code",
      "source": [
        "count = int(input(\"Enter a number: \"))\n",
        "minutes=60\n",
        "print(\"Enter number of hrs:\",count)\n",
        "print(\"the number of mints are:\",minutes*count)S"
      ],
      "metadata": {
        "colab": {
          "base_uri": "https://localhost:8080/"
        },
        "id": "W_0iX79uXYaA",
        "outputId": "2b8a90d1-62a9-450d-faed-b83fff9d2752"
      },
      "execution_count": 9,
      "outputs": [
        {
          "output_type": "stream",
          "name": "stdout",
          "text": [
            "Enter a number: 4\n",
            "Enter number of hrs: 4\n",
            "the number of mints are: 240\n"
          ]
        }
      ]
    },
    {
      "cell_type": "code",
      "source": [
        "a=[20,\"paddu\",40]\n",
        "b={48,61}\n",
        "c=(23,25,18)\n",
        "d={\"name\":\"paddu\",\"age\":20}\n",
        "print(a[1])\n",
        "print(list(b)[1])\n",
        "print(c[2])\n",
        "print(d[\"age\"])"
      ],
      "metadata": {
        "colab": {
          "base_uri": "https://localhost:8080/"
        },
        "id": "kGz3CYIyb81b",
        "outputId": "c73099a2-e107-4e40-e31b-1e912b2586d2"
      },
      "execution_count": 16,
      "outputs": [
        {
          "output_type": "stream",
          "name": "stdout",
          "text": [
            "paddu\n",
            "61\n",
            "18\n",
            "20\n"
          ]
        }
      ]
    },
    {
      "cell_type": "code",
      "source": [
        "a = int(input(\"enter a number: \"))\n",
        "\n",
        "if a % 2 == 0:\n",
        "    print(\"even\")\n",
        "else:\n",
        "    print(\"odd\")"
      ],
      "metadata": {
        "colab": {
          "base_uri": "https://localhost:8080/"
        },
        "id": "_rRK_DMvgCUy",
        "outputId": "e62952a7-fc9c-42f6-ad08-a2648d5150dd"
      },
      "execution_count": 23,
      "outputs": [
        {
          "output_type": "stream",
          "name": "stdout",
          "text": [
            "enter a number: 4\n",
            "even\n"
          ]
        }
      ]
    },
    {
      "cell_type": "code",
      "source": [
        "a = int(input(\"enter a number: \"))\n",
        "\n",
        "print(\"even\" if a % 2 == 0 else \"odd\")"
      ],
      "metadata": {
        "colab": {
          "base_uri": "https://localhost:8080/"
        },
        "id": "LOr9T683g4x3",
        "outputId": "15cd164e-6899-42b6-b321-139c5b84b5ac"
      },
      "execution_count": 25,
      "outputs": [
        {
          "output_type": "stream",
          "name": "stdout",
          "text": [
            "enter a number: 8\n",
            "even\n"
          ]
        }
      ]
    },
    {
      "cell_type": "code",
      "source": [
        "username = \"john\"\n",
        "password = \"1212\"\n",
        "a = input(\"Enter username\")\n",
        "b = input(\"Enter password\")\n",
        "if a == username and b == password:\n",
        "    print(\"login successful\")\n",
        "else:\n",
        "    print(\"login failed\")"
      ],
      "metadata": {
        "colab": {
          "base_uri": "https://localhost:8080/"
        },
        "id": "F2x1nI89jMuH",
        "outputId": "40bdb8c1-821d-42fc-ab62-f57150956a0b"
      },
      "execution_count": 28,
      "outputs": [
        {
          "output_type": "stream",
          "name": "stdout",
          "text": [
            "Enter usernamejohn\n",
            "Enter password1212\n",
            "login successful\n"
          ]
        }
      ]
    },
    {
      "cell_type": "code",
      "source": [
        "a = range(6)\n",
        "print(a)\n",
        "print(list(a))"
      ],
      "metadata": {
        "colab": {
          "base_uri": "https://localhost:8080/"
        },
        "id": "h-pxb5WUj4jx",
        "outputId": "cbc50c5a-ca53-4918-96eb-529ef8251714"
      },
      "execution_count": 29,
      "outputs": [
        {
          "output_type": "stream",
          "name": "stdout",
          "text": [
            "range(0, 6)\n",
            "[0, 1, 2, 3, 4, 5]\n"
          ]
        }
      ]
    },
    {
      "cell_type": "code",
      "source": [
        "a = [23, 1, 2, 4]\n",
        "for i in a:\n",
        "  print(i)"
      ],
      "metadata": {
        "colab": {
          "base_uri": "https://localhost:8080/"
        },
        "id": "G17VeaNOkoq-",
        "outputId": "f1c3f30f-9b67-43d5-9de7-d5883b60a1f3"
      },
      "execution_count": 30,
      "outputs": [
        {
          "output_type": "stream",
          "name": "stdout",
          "text": [
            "23\n",
            "1\n",
            "2\n",
            "4\n"
          ]
        }
      ]
    }
  ]
}